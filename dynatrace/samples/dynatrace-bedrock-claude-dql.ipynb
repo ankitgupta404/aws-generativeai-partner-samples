{
 "cells": [
  {
   "cell_type": "markdown",
   "id": "5989ce0b-b2b9-487c-957e-c9c52d61b3cd",
   "metadata": {},
   "source": [
    "# Create Dynatrace DQL's with Anthropic Claude 3 and Amazon Bedrock using Boto3 SDK\n"
   ]
  },
  {
   "cell_type": "markdown",
   "id": "e30e698d-0a1d-4f04-8916-57057b33e80e",
   "metadata": {},
   "source": [
    "## Introduction\n",
    "\n",
    "In this notebook we will show you how to use Boto3, SDK Anthropic Claude 3 and Amazon Bedrock to create Dynatrace's DQL queries."
   ]
  },
  {
   "cell_type": "markdown",
   "id": "6dc4244a-3ac5-4cfd-8316-f715909bbc8a",
   "metadata": {},
   "source": [
    "#### Python 3.10\n",
    "\n",
    "⚠ For this lab we need to run the notebook based on a Python 3.10 runtime. ⚠\n",
    "\n",
    "#### Installation\n",
    "\n",
    "To run this notebook you would need to install dependencies - boto3, botocore.\n"
   ]
  },
  {
   "cell_type": "code",
   "execution_count": 2,
   "id": "7eb664fa-a91d-4623-82e0-98c08b3a9824",
   "metadata": {},
   "outputs": [
    {
     "name": "stdout",
     "output_type": "stream",
     "text": [
      "Requirement already satisfied: pip in /opt/conda/lib/python3.11/site-packages (25.0.1)\n",
      "Note: you may need to restart the kernel to use updated packages.\n",
      "\u001b[31mERROR: pip's dependency resolver does not currently take into account all the packages that are installed. This behaviour is the source of the following dependency conflicts.\n",
      "autogluon-multimodal 1.2 requires nvidia-ml-py3==7.352.0, which is not installed.\n",
      "aiobotocore 2.20.0 requires botocore<1.36.24,>=1.36.20, but you have botocore 1.37.16 which is incompatible.\n",
      "amazon-sagemaker-sql-magic 0.1.3 requires sqlparse==0.5.0, but you have sqlparse 0.5.3 which is incompatible.\n",
      "autogluon-multimodal 1.2 requires jsonschema<4.22,>=4.18, but you have jsonschema 4.23.0 which is incompatible.\n",
      "autogluon-multimodal 1.2 requires nltk<3.9,>=3.4.5, but you have nltk 3.9.1 which is incompatible.\n",
      "autogluon-multimodal 1.2 requires omegaconf<2.3.0,>=2.1.1, but you have omegaconf 2.3.0 which is incompatible.\n",
      "sparkmagic 0.21.0 requires pandas<2.0.0,>=0.17.1, but you have pandas 2.2.3 which is incompatible.\u001b[0m\u001b[31m\n",
      "Note: you may need to restart the kernel to use updated packages.\n",
      "\u001b[31mERROR: pip's dependency resolver does not currently take into account all the packages that are installed. This behaviour is the source of the following dependency conflicts.\n",
      "aiobotocore 2.20.0 requires botocore<1.36.24,>=1.36.20, but you have botocore 1.37.16 which is incompatible.\n",
      "sparkmagic 0.21.0 requires pandas<2.0.0,>=0.17.1, but you have pandas 2.2.3 which is incompatible.\u001b[0m\u001b[31m\n",
      "Note: you may need to restart the kernel to use updated packages.\n"
     ]
    }
   ],
   "source": [
    "%pip install --upgrade pip\n",
    "%pip install boto3 --force-reinstall --quiet\n",
    "%pip install botocore --force-reinstall --quiet"
   ]
  },
  {
   "cell_type": "markdown",
   "id": "a8f5ef13-95e1-4365-a7af-e70610a21aff",
   "metadata": {},
   "source": [
    "#### Kernal Restart\n",
    "Restart the kernal with the updated packages that are installed through the dependencies above"
   ]
  },
  {
   "cell_type": "markdown",
   "id": "104e15d6-d522-4a57-b652-44d84c991c46",
   "metadata": {},
   "source": [
    "#### Setup\n",
    "import the necessary libraries"
   ]
  },
  {
   "cell_type": "code",
   "execution_count": null,
   "id": "b8663a4b-1b5a-420b-8af6-368ab1b87bd2",
   "metadata": {},
   "outputs": [],
   "source": [
    "# restart kernel\n",
    "from IPython.core.display import HTML\n",
    "HTML(\"<script>Jupyter.notebook.kernel.restart()</script>\")"
   ]
  },
  {
   "cell_type": "code",
   "execution_count": 7,
   "id": "c9584233-eeed-4759-9d83-5cc1e043481a",
   "metadata": {},
   "outputs": [],
   "source": [
    "import json\n",
    "import boto3\n",
    "import botocore"
   ]
  },
  {
   "cell_type": "markdown",
   "id": "ee8d91ea-6e0f-4879-bff5-70fc2e7cef9c",
   "metadata": {},
   "source": [
    "#### Initialization\n",
    "Initiate Bedrock Runtime and BedrockChat"
   ]
  },
  {
   "cell_type": "code",
   "execution_count": 17,
   "id": "62240d5e-aae0-4494-8fdd-de02b6b89335",
   "metadata": {},
   "outputs": [
    {
     "name": "stdout",
     "output_type": "stream",
     "text": [
      "Here's a DQL query to get data from logs with the specified conditions:\n",
      "\n",
      "```sql\n",
      "fetch logs\n",
      "| filter source == \"dql-excercise\" and content == \"FunctionInvocation\"\n",
      "| fields timestamp, content\n",
      "```\n",
      "\n",
      "This query will:\n",
      "1. Fetch all logs (`fetch logs`)\n",
      "2. Filter for logs where source is \"dql-excercise\" and content is \"FunctionInvocation\"\n",
      "3. Display only the timestamp and content fields\n",
      "\n",
      "If you need to limit the time range, you can add a timeframe parameter like this:\n",
      "\n",
      "```sql\n",
      "fetch logs, timeframe=\"last 24h\"\n",
      "| filter source == \"dql-excercise\" and content == \"FunctionInvocation\"\n",
      "| fields timestamp, content\n",
      "```\n",
      "\n",
      "You can adjust the timeframe as needed (e.g., \"last 1h\", \"last 7d\", etc.).\n"
     ]
    }
   ],
   "source": [
    "# Create a Bedrock Runtime client\n",
    "client = boto3.client(\"bedrock-runtime\", region_name=\"us-west-2\")\n",
    "\n",
    "# Set the model ID for Claude 3.5 Sonnet v2\n",
    "model_id = \"anthropic.claude-3-5-sonnet-20241022-v2:0\"\n",
    "\n",
    "# Define your prompt\n",
    "#prompt = \"Explain the concept of cloud computing in simple terms.\"\n",
    "#prompt  = \"create a dynatrace DQL for getting data from logs\"\n",
    "#prompt = \"create a dynatrace DQL for getting data from logs, filter by content=error and severity=error\"\n",
    "prompt = \"create a dynatrace DQL for getting data from logs, where source=dql-excercise and content=FunctionInvocation with fields timestamp, content\"\n",
    "\n",
    "# Format the request payload\n",
    "request_payload = {\n",
    "    \"anthropic_version\": \"bedrock-2023-05-31\",\n",
    "    \"max_tokens\": 512,\n",
    "    \"temperature\": 0.7,\n",
    "    \"messages\": [\n",
    "        {\n",
    "            \"role\": \"user\",\n",
    "            \"content\": [{\"type\": \"text\", \"text\": prompt}]\n",
    "        }\n",
    "    ]\n",
    "}\n",
    "\n",
    "# Convert the request payload to JSON\n",
    "request = json.dumps(request_payload)\n",
    "\n",
    "try:\n",
    "    # Invoke the model\n",
    "    response = client.invoke_model(modelId=model_id, body=request)\n",
    "    \n",
    "    # Parse and print the response\n",
    "    response_body = json.loads(response[\"body\"].read())\n",
    "    print(response_body[\"content\"][0][\"text\"])\n",
    "\n",
    "except Exception as e:\n",
    "    print(f\"An error occurred: {str(e)}\")\n"
   ]
  },
  {
   "cell_type": "code",
   "execution_count": null,
   "id": "2246a7e5-1d8c-4e69-9a9f-edd8f27db1ae",
   "metadata": {},
   "outputs": [],
   "source": []
  }
 ],
 "metadata": {
  "kernelspec": {
   "display_name": "Python 3 (ipykernel)",
   "language": "python",
   "name": "python3"
  },
  "language_info": {
   "codemirror_mode": {
    "name": "ipython",
    "version": 3
   },
   "file_extension": ".py",
   "mimetype": "text/x-python",
   "name": "python",
   "nbconvert_exporter": "python",
   "pygments_lexer": "ipython3",
   "version": "3.11.11"
  }
 },
 "nbformat": 4,
 "nbformat_minor": 5
}
