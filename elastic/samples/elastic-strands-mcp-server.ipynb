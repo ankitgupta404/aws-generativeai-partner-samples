{
 "cells": [
  {
   "cell_type": "markdown",
   "metadata": {},
   "source": [
    "# Using Strands SDK with Elasticsearch MCP Server\n",
    "\n",
    "This notebook demonstrates how to use the Strands SDK's MCPClient to interact with Elasticsearch data through the Elasticsearch MCP Server.\n",
    "\n",
    "## Overview\n",
    "\n",
    "The Elasticsearch MCP Server provides a set of tools that allow AI assistants to interact with Elasticsearch data using the Model Context Protocol (MCP). This notebook shows how to:\n",
    "\n",
    "1. Set up the Strands SDK's MCPClient\n",
    "2. Connect directly to the Elasticsearch MCP Server\n",
    "3. Use the MCP tools to query and analyze Elasticsearch data\n",
    "4. Run example queries against your Elasticsearch cluster\n",
    "\n",
    "## Prerequisites\n",
    "\n",
    "Before running this notebook, ensure you have:\n",
    "\n",
    "1. An Elasticsearch instance with data\n",
    "2. The Elasticsearch MCP Server configured\n",
    "3. Strands SDK installed\n",
    "4. Required Python packages"
   ]
  },
  {
   "cell_type": "markdown",
   "metadata": {},
   "source": [
    "## Installation\n",
    "\n",
    "First, let's install the required packages:"
   ]
  },
  {
   "cell_type": "code",
   "execution_count": null,
   "metadata": {},
   "outputs": [],
   "source": [
    "!pip install uv strands-agents strands-agents-tools mcp elasticsearch==8.15.1 dotenv aiohttp httpx boto3 --quiet"
   ]
  },
  {
   "cell_type": "markdown",
   "metadata": {},
   "source": [
    "## Importing Libraries"
   ]
  },
  {
   "cell_type": "code",
   "execution_count": null,
   "metadata": {},
   "outputs": [],
   "source": [
    "# Import the necessary libraries\n",
    "from strands import Agent\n",
    "from strands.tools.mcp import MCPClient\n",
    "from getpass import getpass\n",
    "from mcp import stdio_client, StdioServerParameters\n",
    "from strands.models import BedrockModel"
   ]
  },
  {
   "cell_type": "markdown",
   "metadata": {},
   "source": [
    "## Setting up the Elasticsearch MCP Client\n",
    "\n",
    "We'll create an MCPClient that connects to the Elasticsearch MCP Server:"
   ]
  },
  {
   "cell_type": "code",
   "execution_count": null,
   "metadata": {},
   "outputs": [],
   "source": [
    "# Create an MCP client for the Elasticsearch MCP Server\n",
    "# Use environment variables for security\n",
    "import os\n",
    "\n",
    "# Get Elasticsearch credentials from environment variables\n",
    "\n",
    "es_url = getpass(\"Elastic Cloud URL: \")\n",
    "es_api_key = getpass(\"Elastic deployment API Key: \")\n",
    "\n",
    "# Validate that credentials are provided\n",
    "if not es_url:\n",
    "    print(\"Warning: ES_URL environment variable not set. Please set it before running this notebook.\")\n",
    "if not es_api_key:\n",
    "    print(\"Warning: ES_API_KEY environment variable not set. Please set it before running this notebook.\")\n",
    "\n",
    "elasticsearch_client = MCPClient(\n",
    "        lambda: stdio_client(\n",
    "            StdioServerParameters(\n",
    "                command=\"npx\",\n",
    "                args=[\"-y\", \"@elastic/mcp-server-elasticsearch\"],\n",
    "                env={\n",
    "                    \"ES_URL\": es_url,\n",
    "                    \"ES_API_KEY\": es_api_key\n",
    "                }\n",
    "            )\n",
    "        )\n",
    "    )\n",
    "\n",
    "print(\"Elasticsearch MCP Client initialized\")"
   ]
  },
  {
   "cell_type": "markdown",
   "metadata": {},
   "source": [
    "## Discovering Available MCP Tools\n",
    "\n",
    "Let's first discover what tools are available from the Elasticsearch MCP Server:"
   ]
  },
  {
   "cell_type": "code",
   "execution_count": null,
   "metadata": {},
   "outputs": [],
   "source": [
    "# Create a BedrockModel\n",
    "bedrock_model = BedrockModel(\n",
    "    model_id=\"us.anthropic.claude-3-7-sonnet-20250219-v1:0\",\n",
    "    region_name='us-east-1',\n",
    "    temperature=0.3,\n",
    ")\n",
    "\n",
    "# Test Elastic\n",
    "with elasticsearch_client:\n",
    "    # Get the tools from the MCP server\n",
    "    tools = elasticsearch_client.list_tools_sync()\n",
    "\n",
    "    # Create an agent with these tools\n",
    "    agent = Agent(model=bedrock_model, tools=tools)\n",
    "\n",
    "    response = agent(\"What are the available elasticsearch indices?\")"
   ]
  },
  {
   "cell_type": "markdown",
   "metadata": {},
   "source": [
    "## Conclusion\n",
    "You have now experimented with Elasticsearch MCP Server using Strands SDK.\n",
    "\n",
    "### Take aways\n",
    "- Adapt this notebook to experiment with strands SDK. \n",
    "- Test with other tools available in Elasticsearch MCP server.\n",
    "\n",
    "## Thank You"
   ]
  }
 ],
 "metadata": {
  "kernelspec": {
   "display_name": "Python 3 (ipykernel)",
   "language": "python",
   "name": "python3"
  },
  "language_info": {
   "codemirror_mode": {
    "name": "ipython",
    "version": 3
   },
   "file_extension": ".py",
   "mimetype": "text/x-python",
   "name": "python",
   "nbconvert_exporter": "python",
   "pygments_lexer": "ipython3",
   "version": "3.11.7"
  }
 },
 "nbformat": 4,
 "nbformat_minor": 4
}
