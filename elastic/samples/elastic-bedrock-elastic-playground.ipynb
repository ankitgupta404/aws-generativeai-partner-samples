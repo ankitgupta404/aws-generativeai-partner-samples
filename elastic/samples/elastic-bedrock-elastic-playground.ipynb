{
 "cells": [
  {
   "cell_type": "markdown",
   "id": "770221366ee0f70b",
   "metadata": {},
   "source": [
    "## Introduction\n",
    "\n",
    "In this notebook we will show you how to create a chatbot in Elastic in under 10 minutes!\n",
    "\n",
    "\n",
    "#### Use case\n",
    "\n",
    "Let’s say you are tasked by your university to create a proof of concept RAG chatbot for your department, leveraging  Elastic. The goal of the chatbot is to help your organization get answers to questions faster, rather than manually searching to find the information themselves. Your organization has a PDF document that it wants you to test and see if Elastic + AWS will provide accurate RAG search results.  \n",
    "\n",
    "\n",
    "#### Implementation\n",
    "\n",
    "Download a pdf file, choose from 1 of these three education based PDF files.\n",
    "* https://www.coastal.edu/uploads/academic/affairs/files/core_syllabus/436_130024_Core_Proposed_syllabus.pdf\n"
   ]
  },
  {
   "cell_type": "markdown",
   "id": "38f1cc6896509fb9",
   "metadata": {},
   "source": [
    "#### Upload a PDF File and Create an Index\n",
    "\n",
    "From within your elastic console home page, Select \"Upload File\" or go to \"Integrations\" and search for \"Upload file\".\n",
    "Select a PDF to upload into elastic. \n",
    "Click \"Import\" and Elastic will ingest your pdf document and create an index for you.\n",
    "\n",
    "<img src=\"static/upload_pdf1.gif\" alt=\"upload_pdf1\" width=\"1920\"/>\n"
   ]
  },
  {
   "cell_type": "markdown",
   "id": "9532e4388158cb5d",
   "metadata": {},
   "source": [
    "#### Import Data, Add Inference Endpoint, and Add Semantic Text\n",
    "\n",
    "After clicking \"Import\", Click the \"Advanced\" button (leave the \"create data view\" box checked).\n",
    "Give your index a name for example **\"course_syllabus\"**. The index name can not have spaces. \n",
    "Click \"Add additional fields\" > \"Add semantic text field\" > and select the inference endpoint we created in module 2 \"my-elser-endpoint\".\n",
    "Click \"Import\" and wait for elastic to create your index.\n",
    "\n",
    "<img src=\"static/upload_pdf2.gif\" alt=\"upload_pdf2\" width=\"1920\"/>"
   ]
  },
  {
   "cell_type": "markdown",
   "id": "38ae0d252b46d3e2",
   "metadata": {},
   "source": [
    "#### Open playground and start asking questions\n",
    "\n",
    "From the hamburger menu in the top left, navigate to \"Search\" > \"Playground\".\n",
    "From within the chatbot window select \"Data\" and choose the index your created. For example: \"course_syllabus\".\n",
    "Choose a large language model from Amazon Bedrock connection.\n",
    "Run a query in your chatbot for example.\n",
    "\n",
    "```\n",
    "Is attendance mandatory? Or can I skip all the in person classes and just submit my work?\n",
    "```\n",
    "Check the response of your chatbot against your source PDF documentation. Did it get the correct answer?\n",
    "Check the \"document sources\" and \"Snippet\" from within that chat window.\n",
    "\n",
    "<img src=\"static/upload_pdf3.gif\" alt=\"upload_pdf3\" width=\"1920\"/>\n",
    "\n",
    "#### Conclusion\n",
    "You have successfully created a proof of concept chatbot in Elastic, using a pdf document."
   ]
  }
 ],
 "metadata": {
  "kernelspec": {
   "display_name": "Python 3 (ipykernel)",
   "language": "python",
   "name": "python3"
  },
  "language_info": {
   "codemirror_mode": {
    "name": "ipython",
    "version": 3
   },
   "file_extension": ".py",
   "mimetype": "text/x-python",
   "name": "python",
   "nbconvert_exporter": "python",
   "pygments_lexer": "ipython3",
   "version": "3.12.2"
  }
 },
 "nbformat": 4,
 "nbformat_minor": 5
}
