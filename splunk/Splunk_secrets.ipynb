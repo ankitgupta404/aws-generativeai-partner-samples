{
 "cells": [
  {
   "cell_type": "markdown",
   "id": "7baa986d-7f27-4f0c-a9c6-d39d72fbe1e2",
   "metadata": {},
   "source": [
    "## Create Secret for Splunk Host and Splunk Token\n",
    "You will create a secret manager secret for storing Splunk Host and Splunk Token value. This is required by the Bedrock Agents to create client connection to Splunk and execute SPL Queries.\n",
    "\n",
    "Follow this [link](https://docs.splunk.com/Documentation/Splunk/9.3.1/Security/CreateAuthTokens) to learn to how to create authentication tokens for Splunk."
   ]
  },
  {
   "cell_type": "code",
   "execution_count": null,
   "id": "9aa28798-e771-43f1-8743-8bc683a79a03",
   "metadata": {
    "tags": []
   },
   "outputs": [],
   "source": [
    "import boto3\n",
    "import json\n",
    "from botocore.exceptions import ClientError\n",
    "\n",
    "# Variables for Splunk Connection\n",
    "secret_value = {}\n",
    "secret_value['SplunkHost'] = \"Your Splunk Host URL/IP\"\n",
    "secret_value['SplunkToken'] = \"Your Splunk User Token\"\n",
    "\n",
    "# Create a Secrets Manager client\n",
    "secrets_client = boto3.client('secretsmanager')\n",
    "# Create a new secret\n",
    "try:\n",
    "    create_secret_response = secrets_client.create_secret(\n",
    "        Name='splunk-bedrock-secret',\n",
    "        Description='This is an example secret',\n",
    "        SecretString=json.dumps(secret_value)\n",
    "    )\n",
    "    print(f\"Secret created: {create_secret_response['ARN']}\")\n",
    "    secret_arn = create_secret_response['ARN']\n",
    "except ClientError as e:\n",
    "    print(f\"Error creating secret: {e.response['Error']['Code']}\")\n",
    "\n",
    "\n"
   ]
  },
  {
   "cell_type": "markdown",
   "id": "0ada201c-07f9-408c-8a89-4f939a4a8c96",
   "metadata": {},
   "source": [
    "Test if you can retrieve the secret"
   ]
  },
  {
   "cell_type": "code",
   "execution_count": 32,
   "id": "13a7c067-524d-4f7d-934a-b415f843c315",
   "metadata": {
    "tags": []
   },
   "outputs": [],
   "source": [
    "# Retrieve the secret value\n",
    "try:\n",
    "    get_secret_value_response = secrets_client.get_secret_value(\n",
    "        SecretId='secret_arn'\n",
    "    )\n",
    "except ClientError as e:\n",
    "    if e.response['Error']['Code'] == 'DecryptionFailureException':\n",
    "        # Secrets Manager can't decrypt the protected secret text using the provided KMS key.\n",
    "        raise e\n",
    "    elif e.response['Error']['Code'] == 'InternalServiceErrorException':\n",
    "        # An error occurred on the server side.\n",
    "        raise e\n",
    "    elif e.response['Error']['Code'] == 'InvalidParameterException':\n",
    "        # You provided an invalid value for a parameter.\n",
    "        raise e\n",
    "    elif e.response['Error']['Code'] == 'InvalidRequestException':\n",
    "        # You provided a parameter value that is not valid for the current state of the resource.\n",
    "        raise e\n",
    "    elif e.response['Error']['Code'] == 'ResourceNotFoundException':\n",
    "        # We can't find the resource that you asked for.\n",
    "        raise e\n",
    "else:\n",
    "    # Decrypted secret value using the associated KMS CMK\n",
    "    # Depending on whether the secret was a string or binary, one of these fields will be populated\n",
    "    if 'SecretString' in get_secret_value_response:\n",
    "        secret_value = get_secret_value_response['SecretString']\n",
    "    else:\n",
    "        secret_value = get_secret_value_response['SecretBinary']\n",
    "\n",
    "    # Your code to use the secret value goes here\n",
    "    print(f\"Retrieved secret value: {secret_value}\")\n",
    "\n"
   ]
  }
 ],
 "metadata": {
  "kernelspec": {
   "display_name": "conda_python3",
   "language": "python",
   "name": "conda_python3"
  },
  "language_info": {
   "codemirror_mode": {
    "name": "ipython",
    "version": 3
   },
   "file_extension": ".py",
   "mimetype": "text/x-python",
   "name": "python",
   "nbconvert_exporter": "python",
   "pygments_lexer": "ipython3",
   "version": "3.10.14"
  }
 },
 "nbformat": 4,
 "nbformat_minor": 5
}
